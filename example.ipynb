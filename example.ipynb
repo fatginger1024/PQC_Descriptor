{
 "cells": [
  {
   "cell_type": "code",
   "execution_count": 1,
   "metadata": {},
   "outputs": [],
   "source": [
    "%config InlineBackend.figure_format = 'retina' "
   ]
  },
  {
   "cell_type": "code",
   "execution_count": 2,
   "metadata": {},
   "outputs": [],
   "source": [
    "\n",
    "from entanglement import Entanglement_Capability\n",
    "from expressibility import Expressibility\n",
    "\n",
    "from qiskit import QuantumCircuit\n",
    "from qiskit.circuit import ParameterVector\n",
    "from qiskit.circuit.library import TwoLocal\n"
   ]
  },
  {
   "cell_type": "code",
   "execution_count": 3,
   "metadata": {},
   "outputs": [],
   "source": [
    "two = TwoLocal(3, 'ry', 'cx', 'linear', reps=2, insert_barriers=True)"
   ]
  },
  {
   "cell_type": "code",
   "execution_count": 4,
   "metadata": {},
   "outputs": [
    {
     "name": "stdout",
     "output_type": "stream",
     "text": [
      "     ┌──────────┐ ░            ░ ┌──────────┐ ░            ░ ┌──────────┐\n",
      "q_0: ┤ Ry(θ[0]) ├─░───■────────░─┤ Ry(θ[3]) ├─░───■────────░─┤ Ry(θ[6]) ├\n",
      "     ├──────────┤ ░ ┌─┴─┐      ░ ├──────────┤ ░ ┌─┴─┐      ░ ├──────────┤\n",
      "q_1: ┤ Ry(θ[1]) ├─░─┤ X ├──■───░─┤ Ry(θ[4]) ├─░─┤ X ├──■───░─┤ Ry(θ[7]) ├\n",
      "     ├──────────┤ ░ └───┘┌─┴─┐ ░ ├──────────┤ ░ └───┘┌─┴─┐ ░ ├──────────┤\n",
      "q_2: ┤ Ry(θ[2]) ├─░──────┤ X ├─░─┤ Ry(θ[5]) ├─░──────┤ X ├─░─┤ Ry(θ[8]) ├\n",
      "     └──────────┘ ░      └───┘ ░ └──────────┘ ░      └───┘ ░ └──────────┘\n"
     ]
    }
   ],
   "source": [
    "print(two)"
   ]
  },
  {
   "cell_type": "code",
   "execution_count": 5,
   "metadata": {},
   "outputs": [],
   "source": [
    "descriptor1 = Entanglement_Capability(two)\n",
    "descriptor2 = Expressibility(two)"
   ]
  },
  {
   "cell_type": "code",
   "execution_count": 6,
   "metadata": {},
   "outputs": [
    {
     "data": {
      "text/plain": [
       "10"
      ]
     },
     "execution_count": 6,
     "metadata": {},
     "output_type": "execute_result"
    }
   ],
   "source": [
    "descriptor1.samples"
   ]
  },
  {
   "cell_type": "code",
   "execution_count": 7,
   "metadata": {},
   "outputs": [
    {
     "name": "stdout",
     "output_type": "stream",
     "text": [
      "The entanglement capability of the given circuit is:  0.4212171441574767\n",
      "The expressibility of the given circuit is:  0.08849674487551594\n"
     ]
    }
   ],
   "source": [
    "print(\"The entanglement capability of the given circuit is: \", descriptor1.get_result())\n",
    "print(\"The expressibility of the given circuit is: \", descriptor2.get_result())"
   ]
  },
  {
   "cell_type": "code",
   "execution_count": 8,
   "metadata": {},
   "outputs": [
    {
     "data": {
      "text/plain": [
       "<Figure size 621.941x367.889 with 1 Axes>"
      ]
     },
     "execution_count": 8,
     "metadata": {},
     "output_type": "execute_result"
    }
   ],
   "source": [
    "Num = 4\n",
    "qc = QuantumCircuit(Num)\n",
    "x = ParameterVector(r'$\\theta$', length=8)\n",
    "\n",
    "[qc.h(i) for i in range(Num)]   \n",
    "[qc.ry(x[int(2*i)], i) for i in range(Num)]\n",
    "[qc.rz(x[int(2*i+1)], i) for i in range(Num)]\n",
    "\n",
    "qc.cx(0, range(1, Num))\n",
    "qc.draw(\"mpl\")"
   ]
  },
  {
   "cell_type": "code",
   "execution_count": 9,
   "metadata": {},
   "outputs": [
    {
     "data": {
      "text/plain": [
       "ParameterView([ParameterVectorElement($\\theta$[0]), ParameterVectorElement($\\theta$[1]), ParameterVectorElement($\\theta$[2]), ParameterVectorElement($\\theta$[3]), ParameterVectorElement($\\theta$[4]), ParameterVectorElement($\\theta$[5]), ParameterVectorElement($\\theta$[6]), ParameterVectorElement($\\theta$[7])])"
      ]
     },
     "execution_count": 9,
     "metadata": {},
     "output_type": "execute_result"
    }
   ],
   "source": [
    "qc.parameters"
   ]
  },
  {
   "cell_type": "code",
   "execution_count": 11,
   "metadata": {},
   "outputs": [],
   "source": [
    "descriptor1 = Entanglement_Capability(qc,samples=10)\n",
    "descriptor2 = Expressibility(qc,samples=10)"
   ]
  },
  {
   "cell_type": "code",
   "execution_count": 12,
   "metadata": {},
   "outputs": [
    {
     "name": "stdout",
     "output_type": "stream",
     "text": [
      "The entanglement capability of the given circuit is:  0.3320884004357065\n",
      "The expressibility of the given circuit is:  0.40958042025849106\n"
     ]
    }
   ],
   "source": [
    "print(\"The entanglement capability of the given circuit is: \", descriptor1.get_result())\n",
    "print(\"The expressibility of the given circuit is: \", descriptor2.get_result())"
   ]
  },
  {
   "cell_type": "code",
   "execution_count": 13,
   "metadata": {},
   "outputs": [],
   "source": [
    "class Interface:\n",
    "    \n",
    "    def __init__(self,circ=None,samples:int=1000)->None:\n",
    "        \"\"\"\n",
    "        Interface which initialise the user input.\n",
    "        ------------------------------------------\n",
    "        circ: qiskit.QuantumCircuit, a user defined quantum circuit, must contain parametrised quantum gates\n",
    "        samples: int, number of samples we want to draw for the parameters.\n",
    "        \"\"\"\n",
    "        self._circ = circ \n",
    "        self._num_qubits = circ.num_qubits\n",
    "        self._samples = samples\n",
    "        \n",
    "        \n",
    "    "
   ]
  },
  {
   "cell_type": "code",
   "execution_count": 14,
   "metadata": {},
   "outputs": [
    {
     "name": "stdout",
     "output_type": "stream",
     "text": [
      "3\n"
     ]
    }
   ],
   "source": [
    "inter = Interface(two)\n",
    "print(inter._num_qubits)"
   ]
  },
  {
   "cell_type": "code",
   "execution_count": 114,
   "metadata": {},
   "outputs": [],
   "source": [
    "\n",
    "class Entanglement_Capability(Interface):\n",
    "    \n",
    "    def __init__(self,circ=None,samples:int=1000,method_ec:str='mw'):\n",
    "        super().__init__(circ,samples)\n",
    "        self._method_ec = method_ec\n",
    "\n",
    "    @staticmethod\n",
    "    def scott_helper(state, perms):\n",
    "        \n",
    "        dems = np.linalg.matrix_power(\n",
    "            [partial_trace(state, list(qb)).data for qb in perms], 2\n",
    "        )\n",
    "        trace = np.trace(dems, axis1=1, axis2=2)\n",
    "        return np.sum(trace).real\n",
    "\n",
    "    def meyer_wallach_measure(self,states, num_qubits):\n",
    "        r\"\"\"Returns the meyer-wallach entanglement measure for the given circuit.\n",
    "        .. math::\n",
    "            Q = \\frac{2}{|\\vec{\\theta}|}\\sum_{\\theta_{i}\\in \\vec{\\theta}}\n",
    "            \\Bigg(1-\\frac{1}{n}\\sum_{k=1}^{n}Tr(\\rho_{k}^{2}(\\theta_{i}))\\Bigg)\n",
    "        \"\"\"\n",
    "        num_qubits = self._num_qubits\n",
    "        permutations = list(itertools.combinations(range(num_qubits), num_qubits - 1))\n",
    "        ns = 2 * sum(\n",
    "            [\n",
    "                1 - 1 / num_qubits * self.scott_helper(state, permutations)\n",
    "                for state in states\n",
    "            ]\n",
    "        )\n",
    "        \n",
    "        return ns.real\n",
    " \n",
    "    def scott_measure(self,states, num_qubits):\n",
    "        r\"\"\"Returns the scott entanglement measure for the given circuit.\n",
    "        .. math::\n",
    "            Q_{m} = \\frac{2^{m}}{(2^{m}-1) |\\vec{\\theta}|}\\sum_{\\theta_i \\in \\vec{\\theta}}\\\n",
    "            \\bigg(1 - \\frac{m! (n-m)!)}{n!}\\sum_{|S|=m} \\text{Tr} (\\rho_{S}^2 (\\theta_i)) \\bigg)\\\n",
    "            \\quad m= 1, \\ldots, \\lfloor n/2 \\rfloor\n",
    "        \"\"\"\n",
    "        num_qubits = self._num_qubits\n",
    "        m = range(1, num_qubits // 2 + 1)\n",
    "        permutations = [\n",
    "            list(itertools.combinations(range(num_qubits), num_qubits - idx))\n",
    "            for idx in m\n",
    "        ]\n",
    "        combinations = [1 / comb(num_qubits, idx) for idx in m]\n",
    "        contributions = [2 ** idx / (2 ** idx - 1) for idx in m]\n",
    "        ns = []\n",
    "\n",
    "        for ind, perm in enumerate(permutations):\n",
    "            ns.append(\n",
    "                contributions[ind]\n",
    "                * sum(\n",
    "                    [\n",
    "                        1 - combinations[ind] * self.scott_helper(state, perm)\n",
    "                        for state in states\n",
    "                    ]\n",
    "                )\n",
    "            )\n",
    "\n",
    "        return np.array(ns)\n",
    "    \n",
    "  \n",
    "    "
   ]
  },
  {
   "cell_type": "code",
   "execution_count": 115,
   "metadata": {},
   "outputs": [
    {
     "name": "stdout",
     "output_type": "stream",
     "text": [
      "mw\n",
      "     ┌──────────┐ ░            ░ ┌──────────┐ ░            ░ ┌──────────┐\n",
      "q_0: ┤ Ry(θ[0]) ├─░───■────────░─┤ Ry(θ[3]) ├─░───■────────░─┤ Ry(θ[6]) ├\n",
      "     ├──────────┤ ░ ┌─┴─┐      ░ ├──────────┤ ░ ┌─┴─┐      ░ ├──────────┤\n",
      "q_1: ┤ Ry(θ[1]) ├─░─┤ X ├──■───░─┤ Ry(θ[4]) ├─░─┤ X ├──■───░─┤ Ry(θ[7]) ├\n",
      "     ├──────────┤ ░ └───┘┌─┴─┐ ░ ├──────────┤ ░ └───┘┌─┴─┐ ░ ├──────────┤\n",
      "q_2: ┤ Ry(θ[2]) ├─░──────┤ X ├─░─┤ Ry(θ[5]) ├─░──────┤ X ├─░─┤ Ry(θ[8]) ├\n",
      "     └──────────┘ ░      └───┘ ░ └──────────┘ ░      └───┘ ░ └──────────┘\n"
     ]
    }
   ],
   "source": [
    "ec = Entanglement_Capability(circ=two)\n",
    "print(ec._method_ec)\n",
    "print(ec._circ)"
   ]
  },
  {
   "cell_type": "code",
   "execution_count": 116,
   "metadata": {},
   "outputs": [],
   "source": [
    "import numpy as np\n",
    "\n",
    "from scipy.spatial import distance"
   ]
  },
  {
   "cell_type": "code",
   "execution_count": 183,
   "metadata": {},
   "outputs": [],
   "source": [
    "class Expressibility(Interface):\n",
    "    \n",
    "    def __init__(self,circ=None,samples:int=1000,method_ex:str='kl'):\n",
    "        super().__init__(circ,samples)\n",
    "        self._method_ex = method_ex\n",
    "        print(\"Entering expressibility init ...\")\n",
    "        print(\"method ex: \",method_ex)\n",
    "\n",
    "\n",
    "    @staticmethod\n",
    "    def kl_divergence(prob_a: np.ndarray, prob_b: np.ndarray) -> float:\n",
    "        \"\"\"Returns KL divergence between two probabilities\"\"\"\n",
    "        prob_a[prob_a == 0] = 1e-10\n",
    "        kl_div = np.sum(np.where(prob_a != 0, prob_a * np.log(prob_a / prob_b), 0))\n",
    "        return typing.cast(float, kl_div)\n",
    "    \n",
    "    @staticmethod\n",
    "    def js_distance(prob_a: np.ndarray, prob_b: np.ndarray,base: float=2.)-> float:\n",
    "        return distance.jessenshannon(prob_a,prob_b,base)\n",
    "    \n",
    "    def prob_haar(self) -> np.ndarray:\n",
    "        \"\"\"Returns probability density function of fidelities for Haar Random States\"\"\"\n",
    "        fidelity = np.linspace(0, 1, self._samples)\n",
    "        num_qubits = self._num_qubits\n",
    "        \n",
    "        return (2 ** num_qubits - 1) * (1 - fidelity + 1e-8) ** (2 ** num_qubits - 2)\n",
    "\n",
    "    "
   ]
  },
  {
   "cell_type": "code",
   "execution_count": 184,
   "metadata": {},
   "outputs": [
    {
     "name": "stdout",
     "output_type": "stream",
     "text": [
      "Entering expressibility init ...\n",
      "method ex:  kl\n"
     ]
    },
    {
     "data": {
      "text/plain": [
       "'kl'"
      ]
     },
     "execution_count": 184,
     "metadata": {},
     "output_type": "execute_result"
    }
   ],
   "source": [
    "dsc = Expressibility(two)\n",
    "dsc._method_ex"
   ]
  },
  {
   "cell_type": "code",
   "execution_count": 319,
   "metadata": {},
   "outputs": [],
   "source": [
    "import typing\n",
    "import qiskit\n",
    "import itertools\n",
    "from qiskit.quantum_info import partial_trace\n",
    "from qiskit.quantum_info import state_fidelity\n",
    "from multiprocessing import Process, Queue, Value, Array\n",
    "\n",
    "class Multiprocessing(Expressibility,Entanglement_Capability):\n",
    "    \n",
    "    def __init__(self,descriptor:str='ex',\n",
    "                 num_core:int=-1,circ=None,samples:int=10,\n",
    "                 method_ex:str='kl',method_ec:str='mw'):\n",
    "        \"\"\"\n",
    "        Create a multiprocessing pool to handle job with multi cores.\n",
    "        -------------------------------------------------------------\n",
    "        descriptor: string, specify the descriptor(s) of interest, can \n",
    "        be \"ex\", \"ec\" or \"both\".\n",
    "        num_core: number of cores used in the job.\n",
    "        \n",
    "        \"\"\"\n",
    "     \n",
    "        #Interface.__init__(circ=circ,samples=samples,\n",
    "        #                          mwthod_ex=method_ex,method_ec=method_ec)\n",
    "        if descriptor == \"ex\":\n",
    "            print(\"entering expressibility...\")\n",
    "            print(\"method_ex: \",method_ex)\n",
    "            Expressibility.__init__(self,circ,samples,method_ex)\n",
    "        elif descriptor == \"ec\":\n",
    "            Entanglement_Capability.__init__(self,circ,samples,method_ec)\n",
    "        elif descriptor == \"both\":\n",
    "            Expressibility.__init__(self,circ,samples,method_ex)\n",
    "            Entanglement_Capability.__init__(self,circ,samples,method_ec)\n",
    "            \n",
    "            \n",
    "    def simulate(self,theta):\n",
    "        circuit =  self._circ.assign_parameters(theta)\n",
    "        circuit.snapshot(\"final\", snapshot_type=\"statevector\")\n",
    "        result = qiskit.execute(\n",
    "            circuit, qiskit.Aer.get_backend(\"aer_simulator_statevector\")\n",
    "        ).result()\n",
    "        result_data = result.data(0)[\"snapshots\"][\"statevector\"][\"final\"][0]\n",
    "\n",
    "        return result_data\n",
    "    \n",
    "    def get_params(self) -> typing.Tuple[typing.List, typing.List]:\n",
    "        \"\"\"Generate parameters for the calculation of expressibility\n",
    "        :returns theta (np.array): first list of parameters for the parameterized quantum circuit\n",
    "        :returns phi (np.array): second list of parameters for the parameterized quantum circuit\n",
    "        \"\"\"\n",
    "        \n",
    "        theta = [\n",
    "            {p: 2 * np.random.random() * np.pi for p in self._circ.parameters}\n",
    "            for _ in range(self._samples)\n",
    "        ]\n",
    "        phi = [\n",
    "            {p: 2 * np.random.random() * np.pi for p in self._circ.parameters}\n",
    "            for _ in range(self._samples)\n",
    "        ]\n",
    "        \n",
    "        params = theta,phi\n",
    "        \n",
    "        return params\n",
    "    \n",
    "    \n",
    "    def get_circuits(self):\n",
    "        \"\"\"\n",
    "        Function that needs multiprocessing.\n",
    "        \n",
    "        \"\"\"\n",
    "        \n",
    "        thetas, phis = self.get_params()\n",
    "        theta_circuits = [\n",
    "                self.simulate(theta)\n",
    "                for theta in thetas\n",
    "        ]\n",
    "            \n",
    "        phi_circuits = [\n",
    "            self.simulate(phi)\n",
    "            for phi in phis\n",
    "        ]\n",
    "        \n",
    "        return np.vstack(theta_circuits), np.vstack(phi_circuits)\n",
    "    \n",
    "    def prob_pqc(self, shots: int = 1024) -> np.ndarray:\n",
    "        \"\"\"Return probability density function of fidelities for PQC\n",
    "        :param shots: number of shots for circuit execution\n",
    "        :returns fidelities (np.array): np.array of fidelities\n",
    "        \"\"\"\n",
    "        theta_circuits, phi_circuits = self.get_circuits()\n",
    "        fidelity = np.array(\n",
    "            [\n",
    "                state_fidelity(rho_a, rho_b)\n",
    "                for rho_a, rho_b in itertools.product(theta_circuits, phi_circuits)\n",
    "            ]\n",
    "        )\n",
    "        \n",
    "        return np.array(fidelity)\n",
    "    \n",
    "    \n",
    "    def get_entanglement(self):\n",
    "        num_qubits = self._num_qubits\n",
    "        theta_circuits, phi_circuits = self.get_circuits()\n",
    "        method = self._method_ec\n",
    "        if method=='mw':\n",
    "            \n",
    "            circ_entanglement_capability = self.meyer_wallach_measure(\n",
    "                        theta_circuits + phi_circuits, num_qubits\n",
    "                    ) / (2 * self._samples)\n",
    "            \n",
    "        elif method=='scott':\n",
    "            \n",
    "            circ_entanglement_capability = self.scott_measure(\n",
    "                        theta_circuits + phi_circuits, num_qubits\n",
    "                    ) / (2 * self._samples)\n",
    "            \n",
    "        else:\n",
    "            raise ValueError(\"Invalid measure provided, choose from 'mw' or 'scott'\")\n",
    "            \n",
    "        return circ_entanglement_capability\n",
    "    \n",
    "    def get_expressibility(self, shots: int = 1024):\n",
    "        samples = self._samples\n",
    "        measure = self._method_ex\n",
    "        haar = self.prob_haar()\n",
    "        haar_prob: np.ndarray = haar / float(haar.sum())\n",
    "\n",
    "        if len(self._circ.parameters) > 0:\n",
    "            fidelity = self.prob_pqc(shots)\n",
    "        else:\n",
    "            fidelity = np.ones(self._samples ** 2)\n",
    "\n",
    "        bin_edges: np.ndarray\n",
    "        pqc_hist, bin_edges = np.histogram(\n",
    "            fidelity, samples, range=(0, 1), density=True\n",
    "        )\n",
    "        pqc_prob: np.ndarray = pqc_hist / float(pqc_hist.sum())\n",
    "\n",
    "        if measure == \"kl\":\n",
    "            pqc_expressibility = self.kl_divergence(pqc_prob, haar_prob)\n",
    "        elif measure == \"js\":\n",
    "            pqc_expressibility = self.jensenshannon(pqc_prob, haar_prob)\n",
    "        else:\n",
    "            raise ValueError(\"Invalid measure provided, choose from 'kl' or 'js'\")\n",
    "        #self.plot_data = [haar_prob, pqc_prob, bin_edges]\n",
    "        #self.expr = pqc_expressibility\n",
    "\n",
    "        return pqc_expressibility\n",
    "    \n",
    "    def job(self):\n",
    "        pass\n",
    "    \n",
    "    def target(self,):\n",
    "        \n",
    "        while not q.empty():\n",
    "        ind = q.get()\n",
    "        P, M = run_one(ind,h=.7,ratio=ratio, cratio=cratio, alpha=alpha)\n",
    "        if len(P) != 1 and len(M) != 1:\n",
    "            arr1[count1.value*6:(count1.value+int(len(P)/6))*6] = P\n",
    "            arr2[count2.value*3:(count2.value+int(len(M)/3))*3] = M\n",
    "            count1.value += int(len(P)/6)\n",
    "            count2.value += int(len(M)/3)\n",
    "        \n",
    "    \n",
    "    \n",
    "            \n",
    "        "
   ]
  },
  {
   "cell_type": "code",
   "execution_count": 320,
   "metadata": {},
   "outputs": [
    {
     "name": "stdout",
     "output_type": "stream",
     "text": [
      "Entering expressibility init ...\n",
      "method ex:  kl\n"
     ]
    }
   ],
   "source": [
    "job = Multiprocessing(circ=two,samples=4,descriptor=\"both\")"
   ]
  },
  {
   "cell_type": "code",
   "execution_count": 321,
   "metadata": {},
   "outputs": [
    {
     "data": {
      "text/plain": [
       "0.19956419691548655"
      ]
     },
     "execution_count": 321,
     "metadata": {},
     "output_type": "execute_result"
    }
   ],
   "source": [
    "job.get_expressibility()"
   ]
  },
  {
   "cell_type": "code",
   "execution_count": 322,
   "metadata": {},
   "outputs": [],
   "source": [
    "out = job.get_circuits()"
   ]
  },
  {
   "cell_type": "code",
   "execution_count": 323,
   "metadata": {},
   "outputs": [
    {
     "data": {
      "text/plain": [
       "(4, 8)"
      ]
     },
     "execution_count": 323,
     "metadata": {},
     "output_type": "execute_result"
    }
   ],
   "source": [
    "t,p = out\n",
    "t.shape"
   ]
  },
  {
   "cell_type": "code",
   "execution_count": 293,
   "metadata": {},
   "outputs": [
    {
     "ename": "AttributeError",
     "evalue": "'list' object has no attribute 'vstack'",
     "output_type": "error",
     "traceback": [
      "\u001b[0;31m---------------------------------------------------------------------------\u001b[0m",
      "\u001b[0;31mAttributeError\u001b[0m                            Traceback (most recent call last)",
      "\u001b[0;32m<ipython-input-293-c4d864adac33>\u001b[0m in \u001b[0;36m<module>\u001b[0;34m\u001b[0m\n\u001b[1;32m      1\u001b[0m \u001b[0mtt\u001b[0m \u001b[0;34m=\u001b[0m \u001b[0mnp\u001b[0m\u001b[0;34m.\u001b[0m\u001b[0mvstack\u001b[0m\u001b[0;34m(\u001b[0m\u001b[0mt\u001b[0m\u001b[0;34m)\u001b[0m\u001b[0;34m\u001b[0m\u001b[0;34m\u001b[0m\u001b[0m\n\u001b[0;32m----> 2\u001b[0;31m \u001b[0mt\u001b[0m\u001b[0;34m.\u001b[0m\u001b[0mvstack\u001b[0m\u001b[0;34m(\u001b[0m\u001b[0;34m)\u001b[0m\u001b[0;34m\u001b[0m\u001b[0;34m\u001b[0m\u001b[0m\n\u001b[0m",
      "\u001b[0;31mAttributeError\u001b[0m: 'list' object has no attribute 'vstack'"
     ]
    }
   ],
   "source": [
    "tt = np.vstack(t)\n",
    "t.vstack()"
   ]
  },
  {
   "cell_type": "code",
   "execution_count": 222,
   "metadata": {},
   "outputs": [],
   "source": [
    "from multiprocessing import Process, Queue, Value, Array\n",
    "\n",
    "a = np.arange(10000)\n",
    "num_proc = 4\n",
    "def target(a):\n",
    "    return np.random.choice(a)\n",
    "\n",
    "def qinit(q, index):\n",
    "    for i in index:\n",
    "        q.put(i)\n",
    "\n",
    "process_list = []\n",
    "index = range(100)\n",
    "q = Queue(len(index))\n",
    "qinit(q, index)\n",
    "for i in range(num_proc):\n",
    "    p = Process(target=target,args=(a,))\n",
    "    p.start()\n",
    "    process_list.append(p)\n",
    "for i in process_list:\n",
    "    p.join() "
   ]
  },
  {
   "cell_type": "code",
   "execution_count": 224,
   "metadata": {},
   "outputs": [
    {
     "data": {
      "text/plain": [
       "[<Process(Process-5, stopped)>,\n",
       " <Process(Process-6, stopped)>,\n",
       " <Process(Process-7, stopped)>,\n",
       " <Process(Process-8, stopped)>]"
      ]
     },
     "execution_count": 224,
     "metadata": {},
     "output_type": "execute_result"
    }
   ],
   "source": []
  },
  {
   "cell_type": "code",
   "execution_count": null,
   "metadata": {},
   "outputs": [],
   "source": []
  }
 ],
 "metadata": {
  "kernelspec": {
   "display_name": "Python 3",
   "language": "python",
   "name": "python3"
  },
  "language_info": {
   "codemirror_mode": {
    "name": "ipython",
    "version": 3
   },
   "file_extension": ".py",
   "mimetype": "text/x-python",
   "name": "python",
   "nbconvert_exporter": "python",
   "pygments_lexer": "ipython3",
   "version": "3.7.4"
  }
 },
 "nbformat": 4,
 "nbformat_minor": 2
}
